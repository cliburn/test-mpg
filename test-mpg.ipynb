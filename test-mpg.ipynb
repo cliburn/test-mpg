{
 "metadata": {
  "name": "",
  "signature": "sha256:951436946741ddf09ca838cdc7586a78f4a41bc3bd9a073ba7015db4f813080a"
 },
 "nbformat": 3,
 "nbformat_minor": 0,
 "worksheets": [
  {
   "cells": [
    {
     "cell_type": "code",
     "collapsed": false,
     "input": [
      "import numpy as np\n",
      "%matplotlib inline\n",
      "import matplotlib.pyplot as plt\n",
      "from bunch import Bunch"
     ],
     "language": "python",
     "metadata": {},
     "outputs": [],
     "prompt_number": 12
    },
    {
     "cell_type": "code",
     "collapsed": false,
     "input": [
      "%load_ext rpy2.ipython"
     ],
     "language": "python",
     "metadata": {},
     "outputs": [],
     "prompt_number": 2
    },
    {
     "cell_type": "code",
     "collapsed": false,
     "input": [
      "data_1 = np.loadtxt(\"data/xs1.csv\", delimiter=\",\")\n",
      "data_2 = np.loadtxt(\"data/xs2.csv\", delimiter=\",\")\n",
      "data_3 = np.loadtxt(\"data/xs3.csv\", delimiter=\",\")"
     ],
     "language": "python",
     "metadata": {},
     "outputs": [],
     "prompt_number": 3
    },
    {
     "cell_type": "code",
     "collapsed": false,
     "input": [
      "def scale(xs):\n",
      "    return (xs - xs.mean(0))/xs.std(0, ddof=1)"
     ],
     "language": "python",
     "metadata": {},
     "outputs": [],
     "prompt_number": 4
    },
    {
     "cell_type": "code",
     "collapsed": false,
     "input": [
      "def sample(xs, n, replace=False):\n",
      "    idx = np.random.choice(len(xs), n, replace=replace)\n",
      "    return xs[idx]"
     ],
     "language": "python",
     "metadata": {},
     "outputs": [],
     "prompt_number": 5
    },
    {
     "cell_type": "code",
     "collapsed": false,
     "input": [
      "def prepare(data_sets, nobs, cols):\n",
      "    C = np.concatenate([i*np.ones(nobs) for i, data in enumerate(data_sets)])\n",
      "    xs = np.concatenate([scale(sample(data[:, cols], nobs)) for data in data_sets])\n",
      "    idx = np.random.permutation(len(xs))\n",
      "    return C[idx], xs[idx]"
     ],
     "language": "python",
     "metadata": {},
     "outputs": [],
     "prompt_number": 6
    },
    {
     "cell_type": "code",
     "collapsed": false,
     "input": [
      "def convert_mpg(Robj):\n",
      "    \"\"\"Convert MPG object to nested dictioary for easy access.\"\"\"\n",
      "    adict = Bunch()\n",
      "    for i, name1 in enumerate(Robj.names):\n",
      "        adict[name1] = Bunch()\n",
      "        for j, name2 in enumerate(Robj[i].names):\n",
      "            adict[name1][name2] = np.array(Robj[i][j]).squeeze()\n",
      "    return adict"
     ],
     "language": "python",
     "metadata": {},
     "outputs": [],
     "prompt_number": 13
    },
    {
     "cell_type": "code",
     "collapsed": false,
     "input": [
      "C, Y_tot = prepare([data_1, data_2, data_3], 100, [0,1,2,3])"
     ],
     "language": "python",
     "metadata": {},
     "outputs": [],
     "prompt_number": 8
    },
    {
     "cell_type": "code",
     "collapsed": false,
     "input": [
      "%%R -i C,Y_tot -o ans\n",
      "\n",
      "library(MPG)\n",
      "\n",
      "set.seed(1)\n",
      "\n",
      "mcmc = list(nburn = 1000, nsave = 50, nskip = 100, ndisplay = 100)\n",
      "\n",
      "p = ncol(Y_tot)\n",
      "\n",
      "prior = list( K = 15,\n",
      "              epsilons_range =  matrix( c(10^-10, 1, 1, 2), ncol = 2),   \n",
      "              m_2 = rep(0,p), S_2 = 1000*diag(1,p),\n",
      "              nu_1 = p+2, \n",
      "              nu_2 = p+2, Psi_2 = diag(1,p),        \n",
      "              tau_k0 = c(4,4),\n",
      "              tau_alpha = c(1,1),\n",
      "              tau_rho = c(1,1), point_masses_rho = c(0.0, 0.0),\n",
      "              tau_varphi = c(1,1,0), point_masses_varphi = c(0.0, 0.0, 0.0)\n",
      ")\n",
      "\n",
      "\n",
      "ans = mpg(Y_tot, C, prior, mcmc)"
     ],
     "language": "python",
     "metadata": {},
     "outputs": [],
     "prompt_number": 9
    },
    {
     "cell_type": "code",
     "collapsed": false,
     "input": [
      "mpg = convert_mpg(ans)"
     ],
     "language": "python",
     "metadata": {},
     "outputs": [],
     "prompt_number": 14
    },
    {
     "cell_type": "code",
     "collapsed": false,
     "input": [
      "plt.figure(figsize=(12,4))\n",
      "plt.subplot(1,3,1)\n",
      "plt.hist(mpg.chain.rho, normed=True, histtype='step')\n",
      "plt.subplot(1,3,2)\n",
      "plt.hist(mpg.chain.varphi[:,0], normed=True, histtype='step')\n",
      "plt.subplot(1,3,3)\n",
      "plt.hist(mpg.chain.epsilon[:,0], normed=True, histtype='step')\n",
      "plt.tight_layout()"
     ],
     "language": "python",
     "metadata": {},
     "outputs": [
      {
       "metadata": {},
       "output_type": "display_data",
       "png": "[encoded data removed]",
       "text": [
        "<matplotlib.figure.Figure at 0x7f4949b717d0>"
       ]
      }
     ],
     "prompt_number": 18
    },
    {
     "cell_type": "code",
     "collapsed": false,
     "input": [
      "mpg.keys()"
     ],
     "language": "python",
     "metadata": {},
     "outputs": [
      {
       "metadata": {},
       "output_type": "pyout",
       "prompt_number": 221,
       "text": [
        "['prior', 'data', 'mcmc', 'chain']"
       ]
      }
     ],
     "prompt_number": 221
    },
    {
     "cell_type": "code",
     "collapsed": false,
     "input": [],
     "language": "python",
     "metadata": {},
     "outputs": []
    }
   ],
   "metadata": {}
  }
 ]
}